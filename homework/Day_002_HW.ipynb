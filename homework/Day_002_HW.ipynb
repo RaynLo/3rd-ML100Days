{
 "cells": [
  {
   "cell_type": "code",
   "execution_count": null,
   "metadata": {},
   "outputs": [],
   "source": [
    "'''\n",
    "Day02 \n",
    "HW: 請找出一個你認為機器學習可以發光發熱的領域並闡述原因?\n",
    "Ans: 金融交易。金融交易(例如股票買賣)在過去很長時間，不論是信仰經濟學的基本面派，還是百年以上歷史的技術交易派，\n",
    "     或者是近年愈發盛行的籌碼分析派，其實都是尋找特徵值，藉由觀察與歸納特徵與特定行情的關聯，進而形成交易觀點與策略。\n",
    "     而上述提到的，對特徵值的發掘/特徵值變化關聯/甚至是不同特徵值交互可能產生新的關聯影響，這些都是ML所擅長處理的。\n",
    "\n",
    "\n",
    "\n",
    "\n",
    "\n",
    "'''"
   ]
  }
 ],
 "metadata": {
  "kernelspec": {
   "display_name": "Python 3",
   "language": "python",
   "name": "python3"
  },
  "language_info": {
   "codemirror_mode": {
    "name": "ipython",
    "version": 3
   },
   "file_extension": ".py",
   "mimetype": "text/x-python",
   "name": "python",
   "nbconvert_exporter": "python",
   "pygments_lexer": "ipython3",
   "version": "3.7.3"
  }
 },
 "nbformat": 4,
 "nbformat_minor": 2
}
